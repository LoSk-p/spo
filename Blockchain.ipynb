{
  "nbformat": 4,
  "nbformat_minor": 0,
  "metadata": {
    "colab": {
      "name": "Blockchain.ipynb",
      "provenance": [],
      "include_colab_link": true
    },
    "kernelspec": {
      "name": "python3",
      "display_name": "Python 3"
    }
  },
  "cells": [
    {
      "cell_type": "markdown",
      "metadata": {
        "id": "view-in-github",
        "colab_type": "text"
      },
      "source": [
        "<a href=\"https://colab.research.google.com/github/LoSk-p/spo/blob/master/Blockchain.ipynb\" target=\"_parent\"><img src=\"https://colab.research.google.com/assets/colab-badge.svg\" alt=\"Open In Colab\"/></a>"
      ]
    },
    {
      "cell_type": "code",
      "metadata": {
        "id": "jsKRVn9lJ3t4",
        "colab_type": "code",
        "colab": {}
      },
      "source": [
        "!pip install web3==4.2.1"
      ],
      "execution_count": 0,
      "outputs": []
    },
    {
      "cell_type": "code",
      "metadata": {
        "id": "ZoYJai2hYLqx",
        "colab_type": "code",
        "colab": {}
      },
      "source": [
        "from web3 import Web3 \n",
        "file = open('Nom.txt', 'r')\n",
        "Nom = file.read()\n",
        "file.close()\n",
        "web3 = Web3(Web3.HTTPProvider(Nom))\n",
        "web3.eth.blockNumber"
      ],
      "execution_count": 0,
      "outputs": []
    },
    {
      "cell_type": "code",
      "metadata": {
        "id": "E17wIDEEm_ew",
        "colab_type": "code",
        "colab": {}
      },
      "source": [
        "Reward=2    #награда за блок фиксированная ETH\n",
        "N=8953400    #Начальный блок"
      ],
      "execution_count": 0,
      "outputs": []
    },
    {
      "cell_type": "markdown",
      "metadata": {
        "id": "xoSrVcDOOMpJ",
        "colab_type": "text"
      },
      "source": [
        "Получение информации о транзакциях"
      ]
    },
    {
      "cell_type": "code",
      "metadata": {
        "id": "b6i8hMGTuCkE",
        "colab_type": "code",
        "outputId": "45076181-b547-4ac0-9ba1-7ea1750547f2",
        "colab": {
          "base_uri": "https://localhost:8080/",
          "height": 50
        }
      },
      "source": [
        "%%time\n",
        "Blocks_gasUsed=[]\n",
        "Blocks_Price=[]\n",
        "Blocks_Contracts=[]\n",
        "for i in range(1000):\n",
        "  GasUsed = []\n",
        "  Price = []\n",
        "  Contracts=[]\n",
        "  for trans in web3.eth.getBlock(N+i)['transactions']:\n",
        "    gettr=web3.eth.getTransaction(trans)\n",
        "    gettrRes=web3.eth.getTransactionReceipt(trans)\n",
        "    GasUsed.append(gettrRes['gasUsed'])\n",
        "    Price.append(gettr['gasPrice'])\n",
        "    if gettr['input'] != '0x':\n",
        "      Contracts.append(1)\n",
        "  Blocks_gasUsed.append(GasUsed)\n",
        "  Blocks_Price.append(Price)\n",
        "  Blocks_Contracts.append(Contracts)\n",
        "\n"
      ],
      "execution_count": 0,
      "outputs": [
        {
          "output_type": "stream",
          "text": [
            "CPU times: user 18min 9s, sys: 51.4 s, total: 19min 1s\n",
            "Wall time: 5h 7min 17s\n"
          ],
          "name": "stdout"
        }
      ]
    },
    {
      "cell_type": "markdown",
      "metadata": {
        "id": "dkcPBb6UOcXE",
        "colab_type": "text"
      },
      "source": [
        "Сохранение информации в файл, расчет награды за блок и процента комиссии майнеру"
      ]
    },
    {
      "cell_type": "code",
      "metadata": {
        "id": "PXRwBNRCsgbg",
        "colab_type": "code",
        "colab": {}
      },
      "source": [
        "file = open('Blocks_info.txt', 'w')\n",
        "Blocks_nom=[]\n",
        "Blocks_com=[]\n",
        "Blocks_otn=[]\n",
        "Blocks_contr=[]\n",
        "for i in range(1000):\n",
        "  Komm = 0\n",
        "  Contr = len(Blocks_Contracts[i])\n",
        "  for j in range(len(Blocks_Price[i])):\n",
        "    Komm += Blocks_Price[i][j]*Blocks_gasUsed[i][j]/(10**18)\n",
        "  Blocks_nom.append(i+N)\n",
        "  Blocks_com.append(float(\"{0:.2f}\".format(Komm)))\n",
        "  Blocks_otn.append(float(\"{0:.1f}\".format(Komm*100/(Komm+2))))\n",
        "  Blocks_contr.append(Contr)\n",
        "  file.write(str(i+N) + ',' + str(Komm) + ',' + str(Komm*100/(Komm+2)) + ',' + str(Contr) + '\\n')  \n",
        "file.close()"
      ],
      "execution_count": 0,
      "outputs": []
    },
    {
      "cell_type": "markdown",
      "metadata": {
        "id": "ytjrMrEXOxVJ",
        "colab_type": "text"
      },
      "source": [
        "Чтение информации из файла"
      ]
    },
    {
      "cell_type": "code",
      "metadata": {
        "id": "ulKSOz1hBZ2u",
        "colab_type": "code",
        "colab": {}
      },
      "source": [
        "file = open('Blocks_info_last_for_graph.txt', 'r')\n",
        "inf=file.read().splitlines()\n",
        "file.close()\n",
        "Blocks_nom=[]\n",
        "Blocks_com=[]\n",
        "Blocks_otn=[]\n",
        "Blocks_contr=[]\n",
        "for block in inf:\n",
        "  block=block.split(',')\n",
        "  Blocks_nom.append(int(block[0]))\n",
        "  Blocks_com.append(float(block[1]))\n",
        "  Blocks_otn.append(float(block[2]))\n",
        "  Blocks_contr.append(int(block[3]))"
      ],
      "execution_count": 0,
      "outputs": []
    },
    {
      "cell_type": "markdown",
      "metadata": {
        "id": "AXA6G51XO2hM",
        "colab_type": "text"
      },
      "source": [
        "Расчет количества блоков с определенной комиссией и процентом"
      ]
    },
    {
      "cell_type": "code",
      "metadata": {
        "id": "OrS-Bqyvx2Kg",
        "colab_type": "code",
        "colab": {}
      },
      "source": [
        "from collections import Counter\n",
        "Blocks_com.remove(122.46)\n",
        "Blocks_otn.remove(98.4)\n",
        "Blocks_otn_counter = Counter(Blocks_otn)\n",
        "Blocks_com_counter = Counter(Blocks_com)\n",
        "Blocks_contr_counter = Counter(Blocks_contr)"
      ],
      "execution_count": 0,
      "outputs": []
    },
    {
      "cell_type": "code",
      "metadata": {
        "id": "GuL5n47y39kW",
        "colab_type": "code",
        "outputId": "2cf786aa-ff39-4204-b560-740347674dbb",
        "colab": {
          "base_uri": "https://localhost:8080/",
          "height": 295
        }
      },
      "source": [
        "import matplotlib.pyplot as plt\n",
        "\n",
        "plt.scatter(Blocks_otn_counter.keys(), Blocks_otn_counter.values(), color='blue', s=10)\n",
        "plt.title('График количества блоков с определенным процентом комиссии')\n",
        "plt.xlabel('Комиссия %')\n",
        "plt.ylabel('Кол-во блоков')\n",
        "plt.show()"
      ],
      "execution_count": 3,
      "outputs": [
        {
          "output_type": "display_data",
          "data": {
            "image/png": "[encoded data removed]",
            "text/plain": [
              "<Figure size 432x288 with 1 Axes>"
            ]
          },
          "metadata": {
            "tags": []
          }
        }
      ]
    },
    {
      "cell_type": "code",
      "metadata": {
        "id": "d68g2_S-G1XL",
        "colab_type": "code",
        "outputId": "e8863424-a246-457f-cf22-bc251f06fb04",
        "colab": {
          "base_uri": "https://localhost:8080/",
          "height": 295
        }
      },
      "source": [
        "plt.scatter(Blocks_com_counter.keys(), Blocks_com_counter.values(), color='blue', s=10)\n",
        "plt.title('График количества блоков с определенной комиссией')\n",
        "plt.xlabel('Комиссия ETH')\n",
        "plt.ylabel('Кол-во блоков')\n",
        "plt.show()"
      ],
      "execution_count": 0,
      "outputs": [
        {
          "output_type": "display_data",
          "data": {
            "image/png": "[encoded data removed]",
            "text/plain": [
              "<Figure size 432x288 with 1 Axes>"
            ]
          },
          "metadata": {
            "tags": []
          }
        }
      ]
    },
    {
      "cell_type": "code",
      "metadata": {
        "id": "UORx_i0UAbg8",
        "colab_type": "code",
        "colab": {
          "base_uri": "https://localhost:8080/",
          "height": 295
        },
        "outputId": "e481300f-85d9-43f5-8b36-0ce3aab5c8c8"
      },
      "source": [
        "plt.scatter(Blocks_contr_counter.keys(), Blocks_contr_counter.values(), color='blue', s=10)\n",
        "plt.title('График количества блоков с определенным количеством смарт-контрактов')\n",
        "plt.xlabel('Кол-во смарт-контрактов')\n",
        "plt.ylabel('Кол-во блоков')\n",
        "plt.show()"
      ],
      "execution_count": 4,
      "outputs": [
        {
          "output_type": "display_data",
          "data": {
            "image/png": "[encoded data removed]",
            "text/plain": [
              "<Figure size 432x288 with 1 Axes>"
            ]
          },
          "metadata": {
            "tags": []
          }
        }
      ]
    },
    {
      "cell_type": "markdown",
      "metadata": {
        "id": "pkL29fq5PA8K",
        "colab_type": "text"
      },
      "source": [
        "Статистика"
      ]
    },
    {
      "cell_type": "code",
      "metadata": {
        "id": "bMi4tK2VBKs4",
        "colab_type": "code",
        "outputId": "57d90d85-e334-40e3-cde8-2970802dd57d",
        "colab": {
          "base_uri": "https://localhost:8080/",
          "height": 118
        }
      },
      "source": [
        "import statistics \n",
        "print('Абсолютное значение комиссии')\n",
        "print('Медиана ' + str(statistics.median(Blocks_com)))\n",
        "kom_range_razmah = max(Blocks_com) - min(Blocks_com) \n",
        "print('Размах ' + str(kom_range_razmah))\n",
        "print('Среднее значение ' + \"{0:.3f}\".format(statistics.mean(Blocks_com)))\n",
        "print('Дисперсия ' + \"{0:.4f}\".format(statistics.variance(Blocks_com)))\n",
        "print('Отклонение ' + \"{0:.3f}\".format(statistics.stdev(Blocks_com)))"
      ],
      "execution_count": 5,
      "outputs": [
        {
          "output_type": "stream",
          "text": [
            "Абсолютное значение комиссии\n",
            "Медиана 0.08\n",
            "Размах 0.35\n",
            "Среднее значение 0.090\n",
            "Дисперсия 0.0042\n",
            "Отклонение 0.065\n"
          ],
          "name": "stdout"
        }
      ]
    },
    {
      "cell_type": "code",
      "metadata": {
        "id": "7oFA3hOBItWL",
        "colab_type": "code",
        "outputId": "68c1d3d9-be67-42de-a407-277673464040",
        "colab": {
          "base_uri": "https://localhost:8080/",
          "height": 118
        }
      },
      "source": [
        "print('Относительное значение комиссии')\n",
        "print('Медиана ' + str(statistics.median(Blocks_otn)))\n",
        "kom_range_razmah = max(Blocks_otn) - min(Blocks_otn) \n",
        "print('Размах ' + str(kom_range_razmah))\n",
        "print('Среднее значение ' + \"{0:.1f}\".format(statistics.mean(Blocks_otn)))\n",
        "print('Дисперсия ' + \"{0:.1f}\".format(statistics.variance(Blocks_otn)))\n",
        "print('Отклонение ' + \"{0:.1f}\".format(statistics.stdev(Blocks_otn)))"
      ],
      "execution_count": 6,
      "outputs": [
        {
          "output_type": "stream",
          "text": [
            "Относительное значение комиссии\n",
            "Медиана 3.8\n",
            "Размах 15.0\n",
            "Среднее значение 4.2\n",
            "Дисперсия 8.4\n",
            "Отклонение 2.9\n"
          ],
          "name": "stdout"
        }
      ]
    },
    {
      "cell_type": "code",
      "metadata": {
        "id": "ZVJObOVLBiX2",
        "colab_type": "code",
        "colab": {
          "base_uri": "https://localhost:8080/",
          "height": 118
        },
        "outputId": "73ff44e1-06f8-4dca-fdf2-f1b3a2fc821e"
      },
      "source": [
        "print('Количество смарт-контрактов')\n",
        "print('Медиана ' + str(statistics.median(Blocks_contr)))\n",
        "kom_range_razmah = max(Blocks_contr) - min(Blocks_contr) \n",
        "print('Размах ' + str(kom_range_razmah))\n",
        "print('Среднее значение ' + \"{0:.1f}\".format(statistics.mean(Blocks_contr)))\n",
        "print('Дисперсия ' + \"{0:.1f}\".format(statistics.variance(Blocks_contr)))\n",
        "print('Отклонение ' + \"{0:.1f}\".format(statistics.stdev(Blocks_contr)))"
      ],
      "execution_count": 7,
      "outputs": [
        {
          "output_type": "stream",
          "text": [
            "Количество смарт-контрактов\n",
            "Медиана 103.0\n",
            "Размах 228\n",
            "Среднее значение 100.1\n",
            "Дисперсия 2805.0\n",
            "Отклонение 53.0\n"
          ],
          "name": "stdout"
        }
      ]
    }
  ]
}